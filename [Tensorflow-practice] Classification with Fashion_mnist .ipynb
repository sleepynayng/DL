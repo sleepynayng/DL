{
 "cells": [
  {
   "cell_type": "code",
   "execution_count": 29,
   "id": "6194005b",
   "metadata": {},
   "outputs": [],
   "source": [
    "import tensorflow as tf\n",
    "import numpy as np\n",
    "\n",
    "fashion_mnist = tf.keras.datasets.fashion_mnist\n",
    "(train_x, train_y), (test_x, test_y) = fashion_mnist.load_data()"
   ]
  },
  {
   "cell_type": "code",
   "execution_count": 30,
   "id": "425359d7",
   "metadata": {},
   "outputs": [
    {
     "name": "stdout",
     "output_type": "stream",
     "text": [
      "---------------------------------------------------------------------------\n",
      "train_x dimension : (60000, 28, 28)\n",
      "train_y dimension : (60000,)\n",
      "test_x dimension : (10000, 28, 28)\n",
      "test_y dimension : (10000,)\n",
      "--------------------------------------------------------------------------- \n",
      "\n",
      "9\n",
      "[[  0   0   0   0   0   0   0   0   0   0   0   0   0   0   0   0   0   0\n",
      "    0   0   0   0   0   0   0   0   0   0]\n",
      " [  0   0   0   0   0   0   0   0   0   0   0   0   0   0   0   0   0   0\n",
      "    0   0   0   0   0   0   0   0   0   0]\n",
      " [  0   0   0   0   0   0   0   0   0   0   0   0   0   0   0   0   0   0\n",
      "    0   0   0   0   0   0   0   0   0   0]\n",
      " [  0   0   0   0   0   0   0   0   0   0   0   0   1   0   0  13  73   0\n",
      "    0   1   4   0   0   0   0   1   1   0]\n",
      " [  0   0   0   0   0   0   0   0   0   0   0   0   3   0  36 136 127  62\n",
      "   54   0   0   0   1   3   4   0   0   3]\n",
      " [  0   0   0   0   0   0   0   0   0   0   0   0   6   0 102 204 176 134\n",
      "  144 123  23   0   0   0   0  12  10   0]\n",
      " [  0   0   0   0   0   0   0   0   0   0   0   0   0   0 155 236 207 178\n",
      "  107 156 161 109  64  23  77 130  72  15]\n",
      " [  0   0   0   0   0   0   0   0   0   0   0   1   0  69 207 223 218 216\n",
      "  216 163 127 121 122 146 141  88 172  66]\n",
      " [  0   0   0   0   0   0   0   0   0   1   1   1   0 200 232 232 233 229\n",
      "  223 223 215 213 164 127 123 196 229   0]\n",
      " [  0   0   0   0   0   0   0   0   0   0   0   0   0 183 225 216 223 228\n",
      "  235 227 224 222 224 221 223 245 173   0]\n",
      " [  0   0   0   0   0   0   0   0   0   0   0   0   0 193 228 218 213 198\n",
      "  180 212 210 211 213 223 220 243 202   0]\n",
      " [  0   0   0   0   0   0   0   0   0   1   3   0  12 219 220 212 218 192\n",
      "  169 227 208 218 224 212 226 197 209  52]\n",
      " [  0   0   0   0   0   0   0   0   0   0   6   0  99 244 222 220 218 203\n",
      "  198 221 215 213 222 220 245 119 167  56]\n",
      " [  0   0   0   0   0   0   0   0   0   4   0   0  55 236 228 230 228 240\n",
      "  232 213 218 223 234 217 217 209  92   0]\n",
      " [  0   0   1   4   6   7   2   0   0   0   0   0 237 226 217 223 222 219\n",
      "  222 221 216 223 229 215 218 255  77   0]\n",
      " [  0   3   0   0   0   0   0   0   0  62 145 204 228 207 213 221 218 208\n",
      "  211 218 224 223 219 215 224 244 159   0]\n",
      " [  0   0   0   0  18  44  82 107 189 228 220 222 217 226 200 205 211 230\n",
      "  224 234 176 188 250 248 233 238 215   0]\n",
      " [  0  57 187 208 224 221 224 208 204 214 208 209 200 159 245 193 206 223\n",
      "  255 255 221 234 221 211 220 232 246   0]\n",
      " [  3 202 228 224 221 211 211 214 205 205 205 220 240  80 150 255 229 221\n",
      "  188 154 191 210 204 209 222 228 225   0]\n",
      " [ 98 233 198 210 222 229 229 234 249 220 194 215 217 241  65  73 106 117\n",
      "  168 219 221 215 217 223 223 224 229  29]\n",
      " [ 75 204 212 204 193 205 211 225 216 185 197 206 198 213 240 195 227 245\n",
      "  239 223 218 212 209 222 220 221 230  67]\n",
      " [ 48 203 183 194 213 197 185 190 194 192 202 214 219 221 220 236 225 216\n",
      "  199 206 186 181 177 172 181 205 206 115]\n",
      " [  0 122 219 193 179 171 183 196 204 210 213 207 211 210 200 196 194 191\n",
      "  195 191 198 192 176 156 167 177 210  92]\n",
      " [  0   0  74 189 212 191 175 172 175 181 185 188 189 188 193 198 204 209\n",
      "  210 210 211 188 188 194 192 216 170   0]\n",
      " [  2   0   0   0  66 200 222 237 239 242 246 243 244 221 220 193 191 179\n",
      "  182 182 181 176 166 168  99  58   0   0]\n",
      " [  0   0   0   0   0   0   0  40  61  44  72  41  35   0   0   0   0   0\n",
      "    0   0   0   0   0   0   0   0   0   0]\n",
      " [  0   0   0   0   0   0   0   0   0   0   0   0   0   0   0   0   0   0\n",
      "    0   0   0   0   0   0   0   0   0   0]\n",
      " [  0   0   0   0   0   0   0   0   0   0   0   0   0   0   0   0   0   0\n",
      "    0   0   0   0   0   0   0   0   0   0]]\n"
     ]
    }
   ],
   "source": [
    "# train_x : 28*28 행렬 데이터 60000개 존재\n",
    "# train_y : 정답데이터 600000개\n",
    "# test_x : 28*28 행렬 데이터 10000개 존재\n",
    "# test_y : 정답데이터 10000개\n",
    "\n",
    "print(\"-----\"*15)\n",
    "print(\"train_x dimension :\", train_x.shape)\n",
    "print(\"train_y dimension :\", train_y.shape)\n",
    "print(\"test_x dimension :\", test_x.shape)\n",
    "print(\"test_y dimension :\", test_y.shape)\n",
    "print(\"-----\"*15, \"\\n\")\n",
    "\n",
    "print(train_y[0])\n",
    "print(train_x[0])"
   ]
  },
  {
   "cell_type": "code",
   "execution_count": 31,
   "id": "26cfc252",
   "metadata": {},
   "outputs": [
    {
     "data": {
      "image/png": "[encoded data removed]",
      "text/plain": [
       "<Figure size 576x576 with 1 Axes>"
      ]
     },
     "metadata": {
      "needs_background": "light"
     },
     "output_type": "display_data"
    }
   ],
   "source": [
    "import matplotlib.pyplot as plt\n",
    "plt.figure(figsize=(8,8))\n",
    "plt.imshow(train_x[0])\n",
    "plt.show()"
   ]
  },
  {
   "cell_type": "code",
   "execution_count": 32,
   "id": "4b7155e9",
   "metadata": {},
   "outputs": [],
   "source": [
    "# Normalization\n",
    "train_x, test_x = train_x / 255.0, test_x / 255.0"
   ]
  },
  {
   "cell_type": "code",
   "execution_count": 33,
   "id": "88fa4f98",
   "metadata": {},
   "outputs": [],
   "source": [
    "train_y = tf.keras.utils.to_categorical(train_y, num_classes=10)\n",
    "test_y = tf.keras.utils.to_categorical(test_y, num_classes=10)"
   ]
  },
  {
   "cell_type": "code",
   "execution_count": 37,
   "id": "6112986b",
   "metadata": {},
   "outputs": [
    {
     "name": "stdout",
     "output_type": "stream",
     "text": [
      "Model: \"sequential_1\"\n",
      "_________________________________________________________________\n",
      " Layer (type)                Output Shape              Param #   \n",
      "=================================================================\n",
      " flatten_1 (Flatten)         (None, 784)               0         \n",
      "                                                                 \n",
      " dense_3 (Dense)             (None, 128)               100480    \n",
      "                                                                 \n",
      " dense_4 (Dense)             (None, 10)                1290      \n",
      "                                                                 \n",
      "=================================================================\n",
      "Total params: 101,770\n",
      "Trainable params: 101,770\n",
      "Non-trainable params: 0\n",
      "_________________________________________________________________\n"
     ]
    }
   ],
   "source": [
    "model = tf.keras.Sequential([\n",
    "    tf.keras.layers.Flatten(input_shape=(28,28)),\n",
    "    tf.keras.layers.Dense(units=128, activation=\"relu\"),\n",
    "    tf.keras.layers.Dense(units=10, activation=\"softmax\")])\n",
    "\n",
    "model.compile(optimizer=tf.keras.optimizers.Adam(learning_rate = 0.01),\n",
    "              loss = tf.keras.losses.categorical_crossentropy,\n",
    "              metrics = ['accuracy'])\n",
    "\n",
    "model.summary()"
   ]
  },
  {
   "cell_type": "code",
   "execution_count": 38,
   "id": "1960c9a5",
   "metadata": {},
   "outputs": [
    {
     "name": "stdout",
     "output_type": "stream",
     "text": [
      "Epoch 1/30\n",
      "1407/1407 [==============================] - 13s 9ms/step - loss: 0.5537 - accuracy: 0.8036 - val_loss: 0.4811 - val_accuracy: 0.8281\n",
      "Epoch 2/30\n",
      "1407/1407 [==============================] - 13s 9ms/step - loss: 0.4506 - accuracy: 0.8377 - val_loss: 0.4385 - val_accuracy: 0.8463\n",
      "Epoch 3/30\n",
      "1407/1407 [==============================] - 13s 9ms/step - loss: 0.4220 - accuracy: 0.8479 - val_loss: 0.4281 - val_accuracy: 0.8470\n",
      "Epoch 4/30\n",
      "1407/1407 [==============================] - 13s 9ms/step - loss: 0.4130 - accuracy: 0.8510 - val_loss: 0.4387 - val_accuracy: 0.8497\n",
      "Epoch 5/30\n",
      "1407/1407 [==============================] - 13s 9ms/step - loss: 0.3985 - accuracy: 0.8544 - val_loss: 0.4130 - val_accuracy: 0.8566\n",
      "Epoch 6/30\n",
      "1407/1407 [==============================] - 13s 9ms/step - loss: 0.3908 - accuracy: 0.8587 - val_loss: 0.4152 - val_accuracy: 0.8532\n",
      "Epoch 7/30\n",
      "1407/1407 [==============================] - 13s 9ms/step - loss: 0.3883 - accuracy: 0.8599 - val_loss: 0.4146 - val_accuracy: 0.8557\n",
      "Epoch 8/30\n",
      "1407/1407 [==============================] - 13s 9ms/step - loss: 0.3712 - accuracy: 0.8663 - val_loss: 0.4539 - val_accuracy: 0.8515\n",
      "Epoch 9/30\n",
      "1407/1407 [==============================] - 13s 9ms/step - loss: 0.3739 - accuracy: 0.8648 - val_loss: 0.4349 - val_accuracy: 0.8563\n",
      "Epoch 10/30\n",
      "1407/1407 [==============================] - 13s 9ms/step - loss: 0.3639 - accuracy: 0.8674 - val_loss: 0.4520 - val_accuracy: 0.8481\n",
      "Epoch 11/30\n",
      "1407/1407 [==============================] - 13s 9ms/step - loss: 0.3540 - accuracy: 0.8717 - val_loss: 0.4509 - val_accuracy: 0.8479\n",
      "Epoch 12/30\n",
      "1407/1407 [==============================] - 13s 9ms/step - loss: 0.3555 - accuracy: 0.8712 - val_loss: 0.4996 - val_accuracy: 0.8366\n",
      "Epoch 13/30\n",
      "1407/1407 [==============================] - 13s 9ms/step - loss: 0.3512 - accuracy: 0.8701 - val_loss: 0.4580 - val_accuracy: 0.8512\n",
      "Epoch 14/30\n",
      "1407/1407 [==============================] - 13s 9ms/step - loss: 0.3528 - accuracy: 0.8716 - val_loss: 0.4615 - val_accuracy: 0.8524\n",
      "Epoch 15/30\n",
      "1407/1407 [==============================] - 13s 9ms/step - loss: 0.3479 - accuracy: 0.8742 - val_loss: 0.4775 - val_accuracy: 0.8562\n",
      "Epoch 16/30\n",
      "1407/1407 [==============================] - 13s 9ms/step - loss: 0.3382 - accuracy: 0.8760 - val_loss: 0.4541 - val_accuracy: 0.8565\n",
      "Epoch 17/30\n",
      "1407/1407 [==============================] - 13s 9ms/step - loss: 0.3381 - accuracy: 0.8780 - val_loss: 0.4698 - val_accuracy: 0.8526\n",
      "Epoch 18/30\n",
      "1407/1407 [==============================] - 13s 9ms/step - loss: 0.3386 - accuracy: 0.8770 - val_loss: 0.4870 - val_accuracy: 0.8297\n",
      "Epoch 19/30\n",
      "1407/1407 [==============================] - 13s 9ms/step - loss: 0.3338 - accuracy: 0.8778 - val_loss: 0.4710 - val_accuracy: 0.8467\n",
      "Epoch 20/30\n",
      "1407/1407 [==============================] - 13s 9ms/step - loss: 0.3305 - accuracy: 0.8792 - val_loss: 0.4760 - val_accuracy: 0.8463\n",
      "Epoch 21/30\n",
      "1407/1407 [==============================] - 13s 9ms/step - loss: 0.3351 - accuracy: 0.8779 - val_loss: 0.4838 - val_accuracy: 0.8438\n",
      "Epoch 22/30\n",
      "1407/1407 [==============================] - 13s 9ms/step - loss: 0.3317 - accuracy: 0.8784 - val_loss: 0.4891 - val_accuracy: 0.8477\n",
      "Epoch 23/30\n",
      "1407/1407 [==============================] - 13s 9ms/step - loss: 0.3314 - accuracy: 0.8801 - val_loss: 0.5227 - val_accuracy: 0.8487\n",
      "Epoch 24/30\n",
      "1407/1407 [==============================] - 13s 9ms/step - loss: 0.3203 - accuracy: 0.8842 - val_loss: 0.4766 - val_accuracy: 0.8574\n",
      "Epoch 25/30\n",
      "1407/1407 [==============================] - 13s 9ms/step - loss: 0.3241 - accuracy: 0.8814 - val_loss: 0.4954 - val_accuracy: 0.8548\n",
      "Epoch 26/30\n",
      "1407/1407 [==============================] - 13s 9ms/step - loss: 0.3270 - accuracy: 0.8807 - val_loss: 0.4828 - val_accuracy: 0.8556\n",
      "Epoch 27/30\n",
      "1407/1407 [==============================] - 13s 9ms/step - loss: 0.3191 - accuracy: 0.8849 - val_loss: 0.5144 - val_accuracy: 0.8581\n",
      "Epoch 28/30\n",
      "1407/1407 [==============================] - 13s 9ms/step - loss: 0.3254 - accuracy: 0.8811 - val_loss: 0.4949 - val_accuracy: 0.8591\n",
      "Epoch 29/30\n",
      "1407/1407 [==============================] - 13s 9ms/step - loss: 0.3181 - accuracy: 0.8837 - val_loss: 0.5303 - val_accuracy: 0.8453\n",
      "Epoch 30/30\n",
      "1407/1407 [==============================] - 13s 9ms/step - loss: 0.3199 - accuracy: 0.8824 - val_loss: 0.5480 - val_accuracy: 0.8382\n"
     ]
    }
   ],
   "source": [
    "history = model.fit(train_x, train_y, epochs=30, validation_split=0.25)"
   ]
  },
  {
   "cell_type": "code",
   "execution_count": 39,
   "id": "bc4017f6",
   "metadata": {},
   "outputs": [
    {
     "data": {
      "image/png": "[encoded data removed]",
      "text/plain": [
       "<Figure size 864x288 with 2 Axes>"
      ]
     },
     "metadata": {
      "needs_background": "light"
     },
     "output_type": "display_data"
    }
   ],
   "source": [
    "import matplotlib.pyplot as plt\n",
    "plt.figure(figsize=(12,4))\n",
    "plt.subplot(1,2,1)\n",
    "\n",
    "plt.plot(history.history[\"loss\"], \"b-\", label=\"loss\")\n",
    "plt.plot(history.history[\"val_loss\"], \"r--\", label=\"val_loss\")\n",
    "plt.xlabel(\"Epoch\")\n",
    "plt.legend()\n",
    "\n",
    "plt.subplot(1,2,2)\n",
    "plt.plot(history.history[\"accuracy\"], \"b-\", label=\"acc\")\n",
    "plt.plot(history.history[\"val_accuracy\"], \"r--\", label=\"val_acc\")\n",
    "plt.xlabel(\"Epoch\")\n",
    "plt.legend()\n",
    "plt.show()"
   ]
  }
 ],
 "metadata": {
  "kernelspec": {
   "display_name": "Python 3",
   "language": "python",
   "name": "python3"
  },
  "language_info": {
   "codemirror_mode": {
    "name": "ipython",
    "version": 3
   },
   "file_extension": ".py",
   "mimetype": "text/x-python",
   "name": "python",
   "nbconvert_exporter": "python",
   "pygments_lexer": "ipython3",
   "version": "3.8.15"
  }
 },
 "nbformat": 4,
 "nbformat_minor": 5
}
