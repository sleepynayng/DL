{
 "cells": [
  {
   "cell_type": "markdown",
   "id": "96fda054",
   "metadata": {},
   "source": [
    "<h1> Deep Learning Network for Regression </h1>"
   ]
  },
  {
   "cell_type": "code",
   "execution_count": 1,
   "id": "43c63a57",
   "metadata": {},
   "outputs": [
    {
     "name": "stdout",
     "output_type": "stream",
     "text": [
      "Num GPUs Available:  0\n",
      "Version : 2.10.0\n"
     ]
    }
   ],
   "source": [
    "import tensorflow as tf\n",
    "\n",
    "print(\"Num GPUs Available: \", len(tf.config.experimental.list_physical_devices('GPU')))\n",
    "print(\"Version :\", tf.__version__)"
   ]
  },
  {
   "cell_type": "code",
   "execution_count": 3,
   "id": "ee477363",
   "metadata": {},
   "outputs": [
    {
     "name": "stdout",
     "output_type": "stream",
     "text": [
      "Model: \"sequential\"\n",
      "_________________________________________________________________\n",
      " Layer (type)                Output Shape              Param #   \n",
      "=================================================================\n",
      " dense (Dense)               (None, 5)                 10        \n",
      "                                                                 \n",
      " dense_1 (Dense)             (None, 1)                 6         \n",
      "                                                                 \n",
      "=================================================================\n",
      "Total params: 16\n",
      "Trainable params: 16\n",
      "Non-trainable params: 0\n",
      "_________________________________________________________________\n"
     ]
    }
   ],
   "source": [
    "import numpy as np\n",
    "\n",
    "x = [0.3, -0.78, 1.26, 0.03, 1.11, 0.24, -0.24, -0.47, -0.77, -0.37,\n",
    "    -0.86, -0.41, -0.27, 0.02, -0.76, 2.66]\n",
    "y = [12.27, 14.44, 11.87, 18.75, 17.52, 16.37, 19.78, 19.51, 12.65, \n",
    "    14.74, 10.72, 21.94, 12.83, 15.51, 17.14, 14.42]\n",
    "\n",
    "model = tf.keras.Sequential([\n",
    "    tf.keras.layers.Dense(units = 5, activation = \"tanh\", input_shape=(1,)),\n",
    "    tf.keras.layers.Dense(units = 1)\n",
    "])\n",
    "\n",
    "model.compile(optimizer = tf.keras.optimizers.SGD(learning_rate=0.05), loss=\"mse\")\n",
    "model.summary()"
   ]
  },
  {
   "cell_type": "code",
   "execution_count": 4,
   "id": "04f06536",
   "metadata": {},
   "outputs": [
    {
     "name": "stdout",
     "output_type": "stream",
     "text": [
      "Epoch 1/20\n"
     ]
    },
    {
     "name": "stderr",
     "output_type": "stream",
     "text": [
      "2022-12-24 00:53:15.227387: W tensorflow/core/platform/profile_utils/cpu_utils.cc:128] Failed to get CPU frequency: 0 Hz\n"
     ]
    },
    {
     "name": "stdout",
     "output_type": "stream",
     "text": [
      "1/1 [==============================] - 0s 213ms/step - loss: 256.3250\n",
      "Epoch 2/20\n",
      "1/1 [==============================] - 0s 2ms/step - loss: 175.6775\n",
      "Epoch 3/20\n",
      "1/1 [==============================] - 0s 2ms/step - loss: 85.0197\n",
      "Epoch 4/20\n",
      "1/1 [==============================] - 0s 2ms/step - loss: 28.0937\n",
      "Epoch 5/20\n",
      "1/1 [==============================] - 0s 2ms/step - loss: 13.3074\n",
      "Epoch 6/20\n",
      "1/1 [==============================] - 0s 2ms/step - loss: 10.4550\n",
      "Epoch 7/20\n",
      "1/1 [==============================] - 0s 2ms/step - loss: 9.9323\n",
      "Epoch 8/20\n",
      "1/1 [==============================] - 0s 2ms/step - loss: 9.8264\n",
      "Epoch 9/20\n",
      "1/1 [==============================] - 0s 2ms/step - loss: 9.7923\n",
      "Epoch 10/20\n",
      "1/1 [==============================] - 0s 2ms/step - loss: 9.7698\n",
      "Epoch 11/20\n",
      "1/1 [==============================] - 0s 2ms/step - loss: 9.7490\n",
      "Epoch 12/20\n",
      "1/1 [==============================] - 0s 2ms/step - loss: 9.7286\n",
      "Epoch 13/20\n",
      "1/1 [==============================] - 0s 2ms/step - loss: 9.7088\n",
      "Epoch 14/20\n",
      "1/1 [==============================] - 0s 2ms/step - loss: 9.6905\n",
      "Epoch 15/20\n",
      "1/1 [==============================] - 0s 2ms/step - loss: 9.6741\n",
      "Epoch 16/20\n",
      "1/1 [==============================] - 0s 2ms/step - loss: 9.6599\n",
      "Epoch 17/20\n",
      "1/1 [==============================] - 0s 2ms/step - loss: 9.6482\n",
      "Epoch 18/20\n",
      "1/1 [==============================] - 0s 2ms/step - loss: 9.6386\n",
      "Epoch 19/20\n",
      "1/1 [==============================] - 0s 2ms/step - loss: 9.6307\n",
      "Epoch 20/20\n",
      "1/1 [==============================] - 0s 2ms/step - loss: 9.6240\n"
     ]
    },
    {
     "data": {
      "text/plain": [
       "<keras.callbacks.History at 0x2c2b810a0>"
      ]
     },
     "execution_count": 4,
     "metadata": {},
     "output_type": "execute_result"
    }
   ],
   "source": [
    "model.fit(x,y,epochs=20)"
   ]
  },
  {
   "cell_type": "code",
   "execution_count": 28,
   "id": "d33f49b9",
   "metadata": {},
   "outputs": [
    {
     "name": "stdout",
     "output_type": "stream",
     "text": [
      "1/1 [==============================] - 0s 22ms/step\n"
     ]
    },
    {
     "data": {
      "text/html": [
       "<div>\n",
       "<style scoped>\n",
       "    .dataframe tbody tr th:only-of-type {\n",
       "        vertical-align: middle;\n",
       "    }\n",
       "\n",
       "    .dataframe tbody tr th {\n",
       "        vertical-align: top;\n",
       "    }\n",
       "\n",
       "    .dataframe thead th {\n",
       "        text-align: right;\n",
       "    }\n",
       "</style>\n",
       "<table border=\"1\" class=\"dataframe\">\n",
       "  <thead>\n",
       "    <tr style=\"text-align: right;\">\n",
       "      <th></th>\n",
       "      <th>predict</th>\n",
       "      <th>real</th>\n",
       "    </tr>\n",
       "  </thead>\n",
       "  <tbody>\n",
       "    <tr>\n",
       "      <th>0</th>\n",
       "      <td>[15.744089]</td>\n",
       "      <td>12.27</td>\n",
       "    </tr>\n",
       "    <tr>\n",
       "      <th>1</th>\n",
       "      <td>[15.773392]</td>\n",
       "      <td>14.44</td>\n",
       "    </tr>\n",
       "    <tr>\n",
       "      <th>2</th>\n",
       "      <td>[15.38661]</td>\n",
       "      <td>11.87</td>\n",
       "    </tr>\n",
       "    <tr>\n",
       "      <th>3</th>\n",
       "      <td>[15.78735]</td>\n",
       "      <td>18.75</td>\n",
       "    </tr>\n",
       "    <tr>\n",
       "      <th>4</th>\n",
       "      <td>[15.464794]</td>\n",
       "      <td>17.52</td>\n",
       "    </tr>\n",
       "    <tr>\n",
       "      <th>5</th>\n",
       "      <td>[15.755775]</td>\n",
       "      <td>16.37</td>\n",
       "    </tr>\n",
       "    <tr>\n",
       "      <th>6</th>\n",
       "      <td>[15.806776]</td>\n",
       "      <td>19.78</td>\n",
       "    </tr>\n",
       "    <tr>\n",
       "      <th>7</th>\n",
       "      <td>[15.804495]</td>\n",
       "      <td>19.51</td>\n",
       "    </tr>\n",
       "    <tr>\n",
       "      <th>8</th>\n",
       "      <td>[15.77491]</td>\n",
       "      <td>12.65</td>\n",
       "    </tr>\n",
       "    <tr>\n",
       "      <th>9</th>\n",
       "      <td>[15.807632]</td>\n",
       "      <td>14.74</td>\n",
       "    </tr>\n",
       "    <tr>\n",
       "      <th>10</th>\n",
       "      <td>[15.759989]</td>\n",
       "      <td>10.72</td>\n",
       "    </tr>\n",
       "    <tr>\n",
       "      <th>11</th>\n",
       "      <td>[15.806774]</td>\n",
       "      <td>21.94</td>\n",
       "    </tr>\n",
       "    <tr>\n",
       "      <th>12</th>\n",
       "      <td>[15.8074665]</td>\n",
       "      <td>12.83</td>\n",
       "    </tr>\n",
       "    <tr>\n",
       "      <th>13</th>\n",
       "      <td>[15.788492]</td>\n",
       "      <td>15.51</td>\n",
       "    </tr>\n",
       "    <tr>\n",
       "      <th>14</th>\n",
       "      <td>[15.776392]</td>\n",
       "      <td>17.14</td>\n",
       "    </tr>\n",
       "    <tr>\n",
       "      <th>15</th>\n",
       "      <td>[14.184015]</td>\n",
       "      <td>14.42</td>\n",
       "    </tr>\n",
       "  </tbody>\n",
       "</table>\n",
       "</div>"
      ],
      "text/plain": [
       "         predict   real\n",
       "0    [15.744089]  12.27\n",
       "1    [15.773392]  14.44\n",
       "2     [15.38661]  11.87\n",
       "3     [15.78735]  18.75\n",
       "4    [15.464794]  17.52\n",
       "5    [15.755775]  16.37\n",
       "6    [15.806776]  19.78\n",
       "7    [15.804495]  19.51\n",
       "8     [15.77491]  12.65\n",
       "9    [15.807632]  14.74\n",
       "10   [15.759989]  10.72\n",
       "11   [15.806774]  21.94\n",
       "12  [15.8074665]  12.83\n",
       "13   [15.788492]  15.51\n",
       "14   [15.776392]  17.14\n",
       "15   [14.184015]  14.42"
      ]
     },
     "execution_count": 28,
     "metadata": {},
     "output_type": "execute_result"
    }
   ],
   "source": [
    "import pandas as pd\n",
    "pd.DataFrame({\"predict\":list(model.predict(x)),\"real\":y})"
   ]
  }
 ],
 "metadata": {
  "kernelspec": {
   "display_name": "Python 3 (ipykernel)",
   "language": "python",
   "name": "python3"
  },
  "language_info": {
   "codemirror_mode": {
    "name": "ipython",
    "version": 3
   },
   "file_extension": ".py",
   "mimetype": "text/x-python",
   "name": "python",
   "nbconvert_exporter": "python",
   "pygments_lexer": "ipython3",
   "version": "3.8.15"
  }
 },
 "nbformat": 4,
 "nbformat_minor": 5
}
