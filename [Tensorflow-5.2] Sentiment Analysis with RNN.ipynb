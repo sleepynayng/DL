{
 "cells": [
  {
   "cell_type": "markdown",
   "id": "33abf736",
   "metadata": {},
   "source": [
    "<h3> 감성분석(Sentiment Analysis) </h3>\n",
    "<ul>\n",
    "    <li> 개념 : 입력된 자연어 안의 주관적 의견, 감정 등을 찾아내는 방법 </li>\n",
    "    <li> 특징 : 긍정/부정 및 긍정/중립/부정, 혹은 숫자로 문장의 호감도를 분류할 수 있음 </li>\n",
    "</ul>\n"
   ]
  },
  {
   "cell_type": "code",
   "execution_count": 1,
   "id": "168df2ff",
   "metadata": {},
   "outputs": [],
   "source": [
    "import numpy as np\n",
    "import tensorflow as tf\n",
    "\n",
    "path_to_train_file = tf.keras.utils.get_file(\"train.txt\", \"https://raw.githubusercontent.com/e9t/nsmc/master/ratings_train.txt\")\n",
    "path_to_test_file = tf.keras.utils.get_file(\"test.txt\", \"https://raw.githubusercontent.com/e9t/nsmc/master/ratings_test.txt\")"
   ]
  },
  {
   "cell_type": "code",
   "execution_count": 2,
   "id": "18d0b8dd",
   "metadata": {},
   "outputs": [],
   "source": [
    "train_text = open(path_to_train_file, \"rb\").read().decode(encoding=\"utf-8\")\n",
    "test_text = open(path_to_test_file, \"rb\").read().decode(encoding=\"utf-8\")"
   ]
  },
  {
   "cell_type": "code",
   "execution_count": 3,
   "id": "4e4f1bca",
   "metadata": {},
   "outputs": [
    {
     "name": "stdout",
     "output_type": "stream",
     "text": [
      "Length of text : 6937271 characters\n",
      "Length of text : 2318260 Characters\n",
      "\n",
      "id\tdocument\tlabel\n",
      "9976970\t아 더빙.. 진짜 짜증나네요 목소리\t0\n",
      "3819312\t흠...포스터보고 초딩영화줄....오버연기조차 가볍지 않구나\t1\n",
      "10265843\t너무재밓었다그래서보는것을추천한다\t0\n",
      "9045019\t교도소 이야기구먼 ..솔직히 재미는 없다..평점 조정\t0\n",
      "6483659\t사이몬페그의 익살스런 연기가 돋보였던 영화!스파이더맨에서 늙어보이기만 했던 커스틴 던스트가 너무나도 이뻐보였다\t1\n",
      "5403919\t막 걸음마 뗀 3세부터 초등학교 1학년생인 8살용영화.ㅋㅋㅋ...별반개도 아까움.\t0\n",
      "7797314\t원작의\n"
     ]
    }
   ],
   "source": [
    "print(\"Length of text : {} characters\".format(len(train_text)))\n",
    "print(\"Length of text : {} Characters\".format(len(test_text)))\n",
    "print()\n",
    "print(train_text[:300])"
   ]
  },
  {
   "cell_type": "code",
   "execution_count": 4,
   "id": "bee96da5",
   "metadata": {},
   "outputs": [
    {
     "name": "stdout",
     "output_type": "stream",
     "text": [
      "(150000, 1) (50000, 1)\n",
      "[[0]\n",
      " [1]\n",
      " [0]\n",
      " [0]\n",
      " [1]]\n"
     ]
    }
   ],
   "source": [
    "train_Y = np.array([[int(row.split(\"\\t\")[2])] for row in train_text.split(\"\\n\")[1:] if row.count('\\t')>0])\n",
    "test_Y = np.array([[int(row.split(\"\\t\")[2])] for row in test_text.split('\\n')[1:] if row.count('\\t')>0])\n",
    "print(train_Y.shape, test_Y.shape)\n",
    "print(train_Y[:5])"
   ]
  },
  {
   "cell_type": "code",
   "execution_count": 5,
   "id": "02e50a07",
   "metadata": {},
   "outputs": [],
   "source": [
    "import re\n",
    "def clean_str(string) : \n",
    "    string = re.sub(r\"[^가-힣A-Za-z0-9(),!?\\'\\`]\", \" \", string)     \n",
    "    string = re.sub(r\"\\'s\", \" \\'s\", string) \n",
    "    string = re.sub(r\"\\'ve\", \" \\'ve\", string) \n",
    "    string = re.sub(r\"n\\'t\", \" n\\'t\", string) \n",
    "    string = re.sub(r\"\\'re\", \" \\'re\", string) \n",
    "    string = re.sub(r\"\\'d\", \" \\'d\", string) \n",
    "    string = re.sub(r\"\\'ll\", \" \\'ll\", string) \n",
    "    string = re.sub(r\",\", \" , \", string) \n",
    "    string = re.sub(r\"!\", \" ! \", string) \n",
    "    string = re.sub(r\"\\(\", \" \\( \", string) \n",
    "    string = re.sub(r\"\\)\", \" \\) \", string) \n",
    "    string = re.sub(r\"\\?\", \" \\? \", string) \n",
    "    string = re.sub(r\"\\s{2,}\", \" \", string)\n",
    "    string = re.sub(r\"\\'\", \"\", string)\n",
    "    return string.lower()"
   ]
  },
  {
   "cell_type": "code",
   "execution_count": 6,
   "id": "58e94956",
   "metadata": {},
   "outputs": [
    {
     "name": "stdout",
     "output_type": "stream",
     "text": [
      "['아', '더빙', '진짜', '짜증나네요', '목소리']\n",
      "['흠', '포스터보고', '초딩영화줄', '오버연기조차', '가볍지', '않구나']\n",
      "['너무재밓었다그래서보는것을추천한다']\n",
      "['교도소', '이야기구먼', '솔직히', '재미는', '없다', '평점', '조정']\n",
      "['사이몬페그의', '익살스런', '연기가', '돋보였던', '영화', '!', '스파이더맨에서', '늙어보이기만', '했던', '커스틴', '던스트가', '너무나도', '이뻐보였다']\n"
     ]
    }
   ],
   "source": [
    "train_text_X = [row.split(\"\\t\")[1] for row in train_text.split('\\n')[1:] if row.count('\\t')>0]\n",
    "train_text_X = [clean_str(sentence) for sentence in train_text_X]\n",
    "sentences = [sentence.split(' ') for sentence in train_text_X]\n",
    "for i in range(5) :\n",
    "    print(sentences[i])"
   ]
  },
  {
   "cell_type": "code",
   "execution_count": 7,
   "id": "398a6044",
   "metadata": {},
   "outputs": [
    {
     "data": {
      "image/png": "[encoded data removed]",
      "text/plain": [
       "<Figure size 432x288 with 1 Axes>"
      ]
     },
     "metadata": {
      "needs_background": "light"
     },
     "output_type": "display_data"
    }
   ],
   "source": [
    "import matplotlib.pyplot as plt\n",
    "sentence_len = [len(sentence) for sentence in sentences]\n",
    "sentence_len.sort()\n",
    "plt.plot(sentence_len)\n",
    "plt.show()"
   ]
  },
  {
   "cell_type": "code",
   "execution_count": 8,
   "id": "fd3786ab",
   "metadata": {},
   "outputs": [
    {
     "name": "stdout",
     "output_type": "stream",
     "text": [
      "['아', '더빙', '진짜', '짜증나네요', '목소리']\n",
      "['흠', '포스터보고', '초딩영화줄', '오버연기조', '가볍지', '않구나']\n",
      "['너무재밓었']\n",
      "['교도소', '이야기구먼', '솔직히', '재미는', '없다', '평점', '조정']\n",
      "['사이몬페그', '익살스런', '연기가', '돋보였던', '영화', '!', '스파이더맨', '늙어보이기', '했던', '커스틴', '던스트가', '너무나도', '이뻐보였다']\n"
     ]
    }
   ],
   "source": [
    "sentences_new = list()\n",
    "for sentence in sentences :\n",
    "    sentences_new.append([word[:5] for word in sentence][:25])\n",
    "sentences = sentences_new\n",
    "for i in range(5) :\n",
    "    print(sentences[i])"
   ]
  },
  {
   "cell_type": "code",
   "execution_count": 9,
   "id": "eb16873e",
   "metadata": {},
   "outputs": [
    {
     "name": "stdout",
     "output_type": "stream",
     "text": [
      "[[  25  884    8 1111    0    0    0    0    0    0    0    0    0    0\n",
      "     0    0    0    0    0    0    0    0    0    0    0]\n",
      " [ 588    0    0    0    0    0    0    0    0    0    0    0    0    0\n",
      "     0    0    0    0    0    0    0    0    0    0    0]\n",
      " [   0    0    0    0    0    0    0    0    0    0    0    0    0    0\n",
      "     0    0    0    0    0    0    0    0    0    0    0]\n",
      " [  71  346   31   35    0    0    0    0    0    0    0    0    0    0\n",
      "     0    0    0    0    0    0    0    0    0    0    0]\n",
      " [ 106    4    2  869  573    0    0    0    0    0    0    0    0    0\n",
      "     0    0    0    0    0    0    0    0    0    0    0]]\n"
     ]
    }
   ],
   "source": [
    "from tensorflow.keras.preprocessing.text import Tokenizer\n",
    "from tensorflow.keras.preprocessing.sequence import pad_sequences\n",
    "\n",
    "tokenizer = Tokenizer(num_words=2000)\n",
    "tokenizer.fit_on_texts(sentences)\n",
    "train_X = tokenizer.texts_to_sequences(sentences)\n",
    "train_X = pad_sequences(train_X, padding=\"post\")\n",
    "print(train_X[:5])"
   ]
  },
  {
   "cell_type": "code",
   "execution_count": 10,
   "id": "7b633dba",
   "metadata": {},
   "outputs": [
    {
     "name": "stdout",
     "output_type": "stream",
     "text": [
      "Model: \"sequential\"\n",
      "_________________________________________________________________\n",
      " Layer (type)                Output Shape              Param #   \n",
      "=================================================================\n",
      " embedding (Embedding)       (None, 25, 300)           6000000   \n",
      "                                                                 \n",
      " lstm (LSTM)                 (None, 50)                70200     \n",
      "                                                                 \n",
      " dense (Dense)               (None, 2)                 102       \n",
      "                                                                 \n",
      "=================================================================\n",
      "Total params: 6,070,302\n",
      "Trainable params: 6,070,302\n",
      "Non-trainable params: 0\n",
      "_________________________________________________________________\n"
     ]
    }
   ],
   "source": [
    "model = tf.keras.Sequential([\n",
    "    tf.keras.layers.Embedding(20000, 300, input_length=25),\n",
    "    tf.keras.layers.LSTM(units=50),\n",
    "    tf.keras.layers.Dense(2, activation=\"softmax\")])\n",
    "\n",
    "model.compile(optimizer = tf.keras.optimizers.Adam(),\n",
    "              loss = tf.keras.losses.sparse_categorical_crossentropy,\n",
    "              metrics = ['accuracy'])\n",
    "model.summary()"
   ]
  },
  {
   "cell_type": "code",
   "execution_count": 11,
   "id": "f33a33a7",
   "metadata": {},
   "outputs": [
    {
     "name": "stdout",
     "output_type": "stream",
     "text": [
      "Epoch 1/10\n",
      "879/879 [==============================] - 40s 43ms/step - loss: 0.4894 - accuracy: 0.7393 - val_loss: 0.4582 - val_accuracy: 0.7665\n",
      "Epoch 2/10\n",
      "879/879 [==============================] - 36s 41ms/step - loss: 0.4506 - accuracy: 0.7646 - val_loss: 0.4475 - val_accuracy: 0.7665\n",
      "Epoch 3/10\n",
      "879/879 [==============================] - 36s 41ms/step - loss: 0.4384 - accuracy: 0.7689 - val_loss: 0.4508 - val_accuracy: 0.7685\n",
      "Epoch 4/10\n",
      "879/879 [==============================] - 36s 41ms/step - loss: 0.4288 - accuracy: 0.7742 - val_loss: 0.4498 - val_accuracy: 0.7593\n",
      "Epoch 5/10\n",
      "879/879 [==============================] - 36s 41ms/step - loss: 0.4197 - accuracy: 0.7797 - val_loss: 0.4541 - val_accuracy: 0.7679\n",
      "Epoch 6/10\n",
      "879/879 [==============================] - 36s 41ms/step - loss: 0.4105 - accuracy: 0.7843 - val_loss: 0.4570 - val_accuracy: 0.7660\n",
      "Epoch 7/10\n",
      "879/879 [==============================] - 36s 41ms/step - loss: 0.4013 - accuracy: 0.7905 - val_loss: 0.4670 - val_accuracy: 0.7628\n",
      "Epoch 8/10\n",
      "879/879 [==============================] - 36s 41ms/step - loss: 0.3930 - accuracy: 0.7923 - val_loss: 0.4668 - val_accuracy: 0.7659\n",
      "Epoch 9/10\n",
      "879/879 [==============================] - 36s 41ms/step - loss: 0.3837 - accuracy: 0.7979 - val_loss: 0.4854 - val_accuracy: 0.7615\n",
      "Epoch 10/10\n",
      "879/879 [==============================] - 36s 41ms/step - loss: 0.3743 - accuracy: 0.8032 - val_loss: 0.4990 - val_accuracy: 0.7575\n"
     ]
    }
   ],
   "source": [
    "history = model.fit(train_X, train_Y, epochs=10, batch_size=128, validation_split=0.25)"
   ]
  },
  {
   "cell_type": "code",
   "execution_count": 13,
   "id": "79c89a27",
   "metadata": {},
   "outputs": [
    {
     "data": {
      "text/plain": [
       "[PhysicalDevice(name='/physical_device:GPU:0', device_type='GPU')]"
      ]
     },
     "execution_count": 13,
     "metadata": {},
     "output_type": "execute_result"
    }
   ],
   "source": [
    "from tensorflow.python.client import device_lib\n",
    "tf.config.list_physical_devices('GPU')"
   ]
  },
  {
   "cell_type": "code",
   "execution_count": 40,
   "id": "f4d0bdd7",
   "metadata": {},
   "outputs": [
    {
     "data": {
      "image/png": "[encoded data removed]",
      "text/plain": [
       "<Figure size 1200x400 with 2 Axes>"
      ]
     },
     "metadata": {},
     "output_type": "display_data"
    }
   ],
   "source": [
    "plt.figure(figsize=(12,4))\n",
    "plt.subplot(1,2,1)\n",
    "plt.plot(history.history[\"loss\"], \"b-\", label=\"loss\")\n",
    "plt.plot(history.history[\"val_loss\"], \"r--\", label=\"val_loss\")\n",
    "plt.xlabel(\"Epoch\")\n",
    "plt.legend()\n",
    "\n",
    "plt.subplot(1,2,2)\n",
    "plt.plot(history.history[\"accuracy\"], \"b-\", label=\"acc\")\n",
    "plt.plot(history.history[\"val_accuracy\"], \"r--\", label=\"val_acc\")\n",
    "plt.xlabel(\"Epoch\")\n",
    "plt.legend()\n",
    "plt.show()"
   ]
  },
  {
   "cell_type": "code",
   "execution_count": 46,
   "id": "ecd70fc4",
   "metadata": {},
   "outputs": [
    {
     "data": {
      "text/plain": [
       "[0.5013614892959595, 0.7564200162887573]"
      ]
     },
     "execution_count": 46,
     "metadata": {},
     "output_type": "execute_result"
    }
   ],
   "source": [
    "test_text_X = [row.split(\"\\t\")[1] for row in test_text.split('\\n')[1:] if row.count('\\t')>0]\n",
    "test_text_X = [clean_str(sentence) for sentence in test_text_X]\n",
    "sentences = [sentence.split(\" \") for sentence in test_text_X]\n",
    "sentences_new = list()\n",
    "for sentence in sentences :\n",
    "    sentences_new.append([word[:5] for word in sentence][:25])\n",
    "sentences = sentences_new\n",
    "\n",
    "test_X = tokenizer.texts_to_sequences(sentences)\n",
    "test_X = pad_sequences(test_X, padding=\"post\")\n",
    "model.evaluate(test_X, test_Y, verbose=0)"
   ]
  },
  {
   "cell_type": "code",
   "execution_count": 66,
   "id": "b4151e4a",
   "metadata": {},
   "outputs": [
    {
     "name": "stdout",
     "output_type": "stream",
     "text": [
      "1/1 [==============================] - 0s 14ms/step\n",
      "['짜증나는']\n",
      "[0.8942082  0.10579181]\n",
      "['짜증나는', '일이']\n",
      "[0.70313156 0.2968684 ]\n",
      "['짜증나는', '일이', '많는데']\n",
      "[0.70313156 0.2968684 ]\n",
      "['짜증나는', '일이', '많는데', '영화보고']\n",
      "[0.11874932 0.88125074]\n",
      "['짜증나는', '일이', '많는데', '영화보고', '기분이']\n",
      "[0.12070893 0.87929106]\n",
      "['짜증나는', '일이', '많는데', '영화보고', '기분이', '나빠요']\n",
      "[0.12070893 0.87929106]\n"
     ]
    }
   ],
   "source": [
    "test_sentence = \"짜증나는 일이 많는데 영화보고 기분이 나빠요\"\n",
    "test_sentence = test_sentence.split(\" \")\n",
    "test_sentences = []\n",
    "now_sentence = []\n",
    "for word in test_sentence :\n",
    "    now_sentence.append(word)\n",
    "    test_sentences.append(now_sentence[:])\n",
    "    \n",
    "test_X_1 = tokenizer.texts_to_sequences(test_sentences)\n",
    "test_X_1 = pad_sequences(test_X_1, padding=\"post\", maxlen=25)\n",
    "prediction = model.predict(test_X_1)\n",
    "for index, sentence in enumerate(test_sentences) :\n",
    "    print(sentence)\n",
    "    print(prediction[index])"
   ]
  }
 ],
 "metadata": {
  "kernelspec": {
   "display_name": "Python 3",
   "language": "python",
   "name": "python3"
  },
  "language_info": {
   "codemirror_mode": {
    "name": "ipython",
    "version": 3
   },
   "file_extension": ".py",
   "mimetype": "text/x-python",
   "name": "python",
   "nbconvert_exporter": "python",
   "pygments_lexer": "ipython3",
   "version": "3.8.15"
  }
 },
 "nbformat": 4,
 "nbformat_minor": 5
}
