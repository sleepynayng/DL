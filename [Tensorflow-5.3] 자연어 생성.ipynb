{
 "cells": [
  {
   "cell_type": "code",
   "execution_count": 15,
   "id": "83ce58fb",
   "metadata": {},
   "outputs": [],
   "source": [
    "import numpy as np\n",
    "import tensorflow as tf\n",
    "import re"
   ]
  },
  {
   "cell_type": "code",
   "execution_count": 6,
   "id": "dbfe2531",
   "metadata": {},
   "outputs": [],
   "source": [
    "path_to_file = tf.keras.utils.get_file(\"input.txt\", \"http://bit.ly/2Mc3SOV\")\n",
    "train_text = open(path_to_file, \"rb\").read().decode(encoding=\"utf-8\")"
   ]
  },
  {
   "cell_type": "code",
   "execution_count": 14,
   "id": "8a6eca93",
   "metadata": {},
   "outputs": [
    {
     "name": "stdout",
     "output_type": "stream",
     "text": [
      "Length of text : 26265493 charcters.\n",
      "﻿태조 이성계 선대의 가계. 목조 이안사가 전주에서 삼척·의주를 거쳐 알동에 정착하다 \n",
      "태조 강헌 지인 계운 성문 신무 대왕(太祖康獻至仁啓運聖文神武大王)의 성은 이씨(李氏)요, 휘(諱)는 단(旦)이요, 자(字)는 군진(君晉)이다. 그전의 휘(諱)는 이성계(李成桂)요, 호(號)는 송헌(松軒)이다. 전주(全州)의 대성(大姓)이다. 사공(司空) 휘(諱) 이한(李翰)이 신라(新羅)에 벼슬하여 태종왕(太宗王)001) 의 10대(代) 손자인 군윤(軍尹) 김은의(金殷義)의 딸에게 장가들어 시중(侍中) 휘(諱) 이자연(李自延)을 낳았다. 시중이 복야(僕射) 휘(諱) 이천상(李天祥)을 낳고, 복야가 아간(阿干) 휘(諱) 광희(光禧)를 낳고, 아간이 사도(司徒) 삼중 대광(三重大匡) 휘(諱) 입전(立全)을 낳고, 사도가 휘(諱) 이긍휴(李兢休)를 낳고, 이긍휴가 휘(諱) 염순(廉順)을 낳고, 염순이 휘(諱) 이승삭(李承朔)을 낳고, 이승삭이 휘(諱) 충경(充慶)을 낳고, 충경이 휘(諱) 경영(景英)을 낳고, 경영이 휘(諱) 충민(忠敏)을 낳고, 충민이 휘(諱) 화(華)를 낳고, 화가 휘(諱) 진유(珍有)를 낳고, 진유가 휘(諱) 궁진(宮進)을 낳고, 궁진이 대장군(大將軍) 휘(諱) 용부(勇夫)를 낳고, 대장군이 내시 집주(內侍執奏)002) 휘(諱) 이인(李隣)을 낳고, 집주가 시중(侍中) 문극겸(文克謙)의 딸에게 장가들어 장군(將軍) 양무(陽茂)를 낳고, 장군이 상장군(上將軍) 이강제(李康濟)의 딸에게 장가들어 휘(諱) 이안사(李安社)를 낳으니, 이 분이 목조(穆祖)이다.\n",
      "성품이 호방(豪放)하여 사방(四方)을 경략할 뜻이 있었다. 처음에 전주(全州)에 있었는데, 그 때 나이 20여 세로서, 용맹과 지략이 남보다 뛰어났다. 산성 별감(山城別監)이 객관(客館)에 들어왔을 때 관기(官妓)의 사건으로 인하여 주관(州官)과 틈이 생겼다. 주관(州官)이 안렴사(按廉使)003) 와 함께 의논하여 위에 알리고 군사를 내어 도모하려 하므로, 목조(穆祖)가 이 소식을 듣고 드디어 강릉도(江陵道)\n"
     ]
    }
   ],
   "source": [
    "# 사용할 텍스트 일부 출력\n",
    "print(\"Length of text : {} charcters.\".format(len(train_text)))\n",
    "print(train_text[0:1000])"
   ]
  },
  {
   "cell_type": "code",
   "execution_count": 16,
   "id": "6bd18831",
   "metadata": {},
   "outputs": [
    {
     "name": "stdout",
     "output_type": "stream",
     "text": [
      "['태조', '이성계', '선대의', '가계', '목조', '이안사가', '전주에서', '삼척', '의주를', '거쳐', '알동에', '정착하다', '\\n', '태조', '강헌', '지인', '계운', '성문', '신무', '대왕']\n"
     ]
    }
   ],
   "source": [
    "def clean_str(string) :\n",
    "    string = re.sub(r\"[^가-힣a-zA-Z0-9(),!?\\'\\`]\", \" \", string)\n",
    "    string = re.sub(r\"\\'ll\", \" \\'ll\", string) \n",
    "    string = re.sub(r\",\", \" , \", string) \n",
    "    string = re.sub(r\"!\", \" ! \", string) \n",
    "    string = re.sub(r\"\\(\", \" \\( \", string) \n",
    "    string = re.sub(r\"\\)\", \" \\) \", string) \n",
    "    string = re.sub(r\"\\?\", \" \\? \", string) \n",
    "    string = re.sub(r\"\\s{2,}\", \" \", string)\n",
    "    string = re.sub(r\"\\'{2,}\", \"\\'\", string)\n",
    "    string = re.sub(r\"\\'\", \"\", string)\n",
    "    return string\n",
    "\n",
    "train_text = train_text.split(\"\\n\")\n",
    "train_text = [clean_str(sentence) for sentence in train_text]\n",
    "train_text_X = []\n",
    "for sentence in train_text :\n",
    "    train_text_X.extend(sentence.split(' '))\n",
    "    train_text_X.append(\"\\n\")\n",
    "    \n",
    "train_text_X = [word for word in train_text_X if word != '']\n",
    "print(train_text_X[:20])"
   ]
  },
  {
   "cell_type": "code",
   "execution_count": 17,
   "id": "fcb3d99e",
   "metadata": {},
   "outputs": [
    {
     "name": "stdout",
     "output_type": "stream",
     "text": [
      "332515unique words\n",
      "{\n",
      "\t'\\n':   0,\n",
      "\t'!' :   1,\n",
      "\t',' :   2,\n",
      "\t'000명으로':   3,\n",
      "\t'001':   4,\n",
      "\t'002':   5,\n",
      "\t'003':   6,\n",
      "\t'004':   7,\n",
      "\t'005':   8,\n",
      "\t'006':   9,\n",
      " ...\n",
      "}\n",
      "index of UNK : 332514\n"
     ]
    }
   ],
   "source": [
    "vocab = sorted(set(train_text_X))\n",
    "vocab.append(\"UNK\")\n",
    "print(\"{}unique words\".format(len(vocab)))\n",
    "\n",
    "word2index = {u:i for i, u in enumerate(vocab)}\n",
    "index2word = np.array(vocab)\n",
    "text_as_int = np.array([word2index[c] for c in train_text_X])\n",
    "\n",
    "print(\"{\")\n",
    "for word,_ in zip(word2index, range(10)) :\n",
    "    print(\"\\t{:4s}: {:3d},\".format(repr(word), word2index[word]))\n",
    "print(\" ...\\n}\")\n",
    "print(\"index of UNK : {}\".format(word2index['UNK']))"
   ]
  },
  {
   "cell_type": "code",
   "execution_count": 19,
   "id": "fcd6ab45",
   "metadata": {},
   "outputs": [
    {
     "name": "stdout",
     "output_type": "stream",
     "text": [
      "['태조', '이성계', '선대의', '가계', '목조', '이안사가', '전주에서', '삼척', '의주를', '거쳐', '알동에', '정착하다', '\\n', '태조', '강헌', '지인', '계운', '성문', '신무', '대왕']\n",
      "[299181 229520 161349  17366 110944 230178 250960 154993 225348  28960\n",
      " 190192 256005      0 299181  25557 273428  36069 163902 180371  84330]\n"
     ]
    }
   ],
   "source": [
    "print(train_text_X[:20])\n",
    "print(text_as_int[:20])"
   ]
  },
  {
   "cell_type": "code",
   "execution_count": null,
   "id": "8ac7d9db",
   "metadata": {},
   "outputs": [],
   "source": [
    "seq_length = 25\n",
    "examples_per_epoch = len(text_as_int) // seq_length\n",
    "sentence_dataset = tf.data.Dataset.from_tensor_slices(text_as_int)\n",
    "sentence_dataset = sentence_dataset.batch(seq_length+1, drop_remainder=True)\n",
    "for item in sentences_dataset.take(1) :\n",
    "    print(index2word[item.numy()])"
   ]
  }
 ],
 "metadata": {
  "kernelspec": {
   "display_name": "Python 3",
   "language": "python",
   "name": "python3"
  },
  "language_info": {
   "codemirror_mode": {
    "name": "ipython",
    "version": 3
   },
   "file_extension": ".py",
   "mimetype": "text/x-python",
   "name": "python",
   "nbconvert_exporter": "python",
   "pygments_lexer": "ipython3",
   "version": "3.8.15"
  }
 },
 "nbformat": 4,
 "nbformat_minor": 5
}
